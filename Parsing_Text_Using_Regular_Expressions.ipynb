{
 "cells": [
  {
   "cell_type": "markdown",
   "id": "003401da-8f65-4698-a312-6ab96be31a98",
   "metadata": {},
   "source": [
    "<h1>Parsing Text Using Regular Expressions</h1>"
   ]
  },
  {
   "cell_type": "markdown",
   "id": "d64c2b7e-ead8-4c51-a0dd-4033911ab088",
   "metadata": {},
   "source": [
    "You want to split the sentence into words (tokenize) using white space."
   ]
  },
  {
   "cell_type": "code",
   "execution_count": 1,
   "id": "7da6fbe1-d8a4-44db-936e-3508a1b2726f",
   "metadata": {},
   "outputs": [],
   "source": [
    "import re"
   ]
  },
  {
   "cell_type": "code",
   "execution_count": 2,
   "id": "5e521669-27a2-4751-91ce-24eecadbc862",
   "metadata": {},
   "outputs": [
    {
     "data": {
      "text/plain": [
       "['I', 'like', 'this', 'country.']"
      ]
     },
     "execution_count": 2,
     "metadata": {},
     "output_type": "execute_result"
    }
   ],
   "source": [
    "re.split('\\s+','I like this country.')"
   ]
  },
  {
   "cell_type": "markdown",
   "id": "e8031592-9861-4120-b82c-8dc7b94fa73f",
   "metadata": {},
   "source": [
    "<h2>Extracing email IDs</h2>"
   ]
  },
  {
   "cell_type": "code",
   "execution_count": 6,
   "id": "b4c3728c-20be-401e-8300-1b5119667ff5",
   "metadata": {},
   "outputs": [],
   "source": [
    "doc = \"For more details please mail us at: xyz@abc.com, rmdpabasara@gmail.com\""
   ]
  },
  {
   "cell_type": "code",
   "execution_count": 7,
   "id": "25242abe-84dc-482f-b5f2-1526406d3859",
   "metadata": {},
   "outputs": [],
   "source": [
    "addresses = re.findall(r'[\\w\\.-]+@[\\w\\.-]+', doc)"
   ]
  },
  {
   "cell_type": "code",
   "execution_count": 8,
   "id": "fe4736f6-7844-465b-8991-65230d998836",
   "metadata": {},
   "outputs": [
    {
     "name": "stdout",
     "output_type": "stream",
     "text": [
      "xyz@abc.com\n",
      "rmdpabasara@gmail.com\n"
     ]
    }
   ],
   "source": [
    "for address in addresses:\n",
    "    print(address)"
   ]
  },
  {
   "cell_type": "markdown",
   "id": "74b5c670-5ceb-4ee0-a42a-efe50fa576b4",
   "metadata": {},
   "source": [
    "<h2>Replacing email IDs</h2>"
   ]
  },
  {
   "cell_type": "code",
   "execution_count": 10,
   "id": "c18e9fd0-61b9-4db8-b836-fb86c289ff3a",
   "metadata": {},
   "outputs": [],
   "source": [
    "doc = \"For more details please mail us at xyz@abc.com\""
   ]
  },
  {
   "cell_type": "code",
   "execution_count": 11,
   "id": "bb8fb2f5-bf9a-431d-8720-8adb6c6ed32b",
   "metadata": {},
   "outputs": [
    {
     "name": "stdout",
     "output_type": "stream",
     "text": [
      "For more details please mail us at pqr@mno.com\n"
     ]
    }
   ],
   "source": [
    "new_email_address = re.sub(r'([\\w\\.-]+)@([\\w\\.-]+)',r'pqr@mno.com', doc)\n",
    "print(new_email_address)"
   ]
  },
  {
   "cell_type": "code",
   "execution_count": null,
   "id": "66dd5b10-1c26-4c8e-99ad-4a554d9b28b0",
   "metadata": {},
   "outputs": [],
   "source": []
  },
  {
   "cell_type": "code",
   "execution_count": 12,
   "id": "f60d2d66-d498-4210-b267-aede2c0f7074",
   "metadata": {},
   "outputs": [
    {
     "name": "stdout",
     "output_type": "stream",
     "text": [
      "Requirement already satisfied: bs4 in c:\\users\\rmdpa\\appdata\\local\\programs\\python\\python311\\lib\\site-packages (0.0.1)\n",
      "Requirement already satisfied: beautifulsoup4 in c:\\users\\rmdpa\\appdata\\local\\programs\\python\\python311\\lib\\site-packages (from bs4) (4.12.2)\n",
      "Requirement already satisfied: soupsieve>1.2 in c:\\users\\rmdpa\\appdata\\local\\programs\\python\\python311\\lib\\site-packages (from beautifulsoup4->bs4) (2.4.1)\n"
     ]
    }
   ],
   "source": [
    "!pip install bs4"
   ]
  },
  {
   "cell_type": "code",
   "execution_count": 13,
   "id": "f2e9dbb4-1646-4489-a62c-82bfb4929a4e",
   "metadata": {},
   "outputs": [
    {
     "name": "stdout",
     "output_type": "stream",
     "text": [
      "Requirement already satisfied: requests in c:\\users\\rmdpa\\appdata\\local\\programs\\python\\python311\\lib\\site-packages (2.31.0)\n",
      "Requirement already satisfied: charset-normalizer<4,>=2 in c:\\users\\rmdpa\\appdata\\local\\programs\\python\\python311\\lib\\site-packages (from requests) (3.2.0)\n",
      "Requirement already satisfied: idna<4,>=2.5 in c:\\users\\rmdpa\\appdata\\local\\programs\\python\\python311\\lib\\site-packages (from requests) (3.4)\n",
      "Requirement already satisfied: urllib3<3,>=1.21.1 in c:\\users\\rmdpa\\appdata\\local\\programs\\python\\python311\\lib\\site-packages (from requests) (2.0.4)\n",
      "Requirement already satisfied: certifi>=2017.4.17 in c:\\users\\rmdpa\\appdata\\local\\programs\\python\\python311\\lib\\site-packages (from requests) (2023.7.22)\n"
     ]
    }
   ],
   "source": [
    "!pip install requests"
   ]
  },
  {
   "cell_type": "code",
   "execution_count": null,
   "id": "19a8d42e-c28d-45b2-9cbd-50125acfc4d9",
   "metadata": {},
   "outputs": [],
   "source": [
    "!pip install pandas"
   ]
  },
  {
   "cell_type": "code",
   "execution_count": null,
   "id": "9b8f3d8c-cdd1-45c0-b423-23e02759a933",
   "metadata": {},
   "outputs": [],
   "source": [
    "from bs4 import BeautifulSoup\n",
    "import requests\n",
    "import pandas as pd\n",
    "from pandas import Series, DataFrame\n",
    "from ipywidgets import FloatProgress\n",
    "from time import sleep\n",
    "from IPython.display import display\n",
    "import re\n",
    "import pickle"
   ]
  },
  {
   "cell_type": "code",
   "execution_count": null,
   "id": "26721f2a-5647-43c7-83c4-71161cd2f973",
   "metadata": {},
   "outputs": [],
   "source": [
    "url = 'https://www.rottentomatoes.com/browse/movies_at_home/'\n",
    "#url = 'https://www.imdb.com/?ref_=nv_home'"
   ]
  },
  {
   "cell_type": "code",
   "execution_count": null,
   "id": "53619e30-c6ae-42f6-be6f-4525350ebbd7",
   "metadata": {},
   "outputs": [],
   "source": [
    "result = requests.get(url)\n",
    "c = result.content\n",
    "soup = BeautifulSoup(c,\"lxml\")"
   ]
  },
  {
   "cell_type": "code",
   "execution_count": null,
   "id": "70f39124-2896-4bdc-96fd-9da5b39a7504",
   "metadata": {},
   "outputs": [],
   "source": [
    "soup"
   ]
  },
  {
   "cell_type": "code",
   "execution_count": null,
   "id": "fe778433-51af-40d0-862a-ec9f1dc9907c",
   "metadata": {},
   "outputs": [],
   "source": [
    "summary = soup.find('div',{'class':'article'})"
   ]
  },
  {
   "cell_type": "code",
   "execution_count": null,
   "id": "46ae95a6-a7d6-42cd-91ff-bbf8324805bf",
   "metadata": {},
   "outputs": [],
   "source": [
    "summary = soup.find('div')"
   ]
  },
  {
   "cell_type": "code",
   "execution_count": null,
   "id": "86d226ab-4d42-4039-8b89-a212c70b899a",
   "metadata": {},
   "outputs": [],
   "source": []
  }
 ],
 "metadata": {
  "kernelspec": {
   "display_name": "Python 3 (ipykernel)",
   "language": "python",
   "name": "python3"
  },
  "language_info": {
   "codemirror_mode": {
    "name": "ipython",
    "version": 3
   },
   "file_extension": ".py",
   "mimetype": "text/x-python",
   "name": "python",
   "nbconvert_exporter": "python",
   "pygments_lexer": "ipython3",
   "version": "3.11.5"
  }
 },
 "nbformat": 4,
 "nbformat_minor": 5
}
