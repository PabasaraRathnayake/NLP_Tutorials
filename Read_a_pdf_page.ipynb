{
 "cells": [
  {
   "cell_type": "code",
   "execution_count": 1,
   "id": "24076a52-4d99-4125-ac34-fda75b47904b",
   "metadata": {},
   "outputs": [
    {
     "name": "stdout",
     "output_type": "stream",
     "text": [
      "Requirement already satisfied: PyPDF2 in c:\\users\\rmdpa\\appdata\\local\\programs\\python\\python311\\lib\\site-packages (3.0.1)\n"
     ]
    }
   ],
   "source": [
    "# Install the PyPDF2 library for PDF manipulation\n",
    "!pip install PyPDF2"
   ]
  },
  {
   "cell_type": "code",
   "execution_count": 2,
   "id": "2516d646-7bdc-4a65-84e2-8a359e9373d0",
   "metadata": {},
   "outputs": [],
   "source": [
    "import PyPDF2\n",
    "from PyPDF2 import PdfFileReader"
   ]
  },
  {
   "cell_type": "code",
   "execution_count": 3,
   "id": "56f0a998-9d27-453c-a24d-7ba451430c05",
   "metadata": {
    "scrolled": true
   },
   "outputs": [],
   "source": [
    "#open pdf\n",
    "pdf = open(\"Test-doc.pdf\",\"rb\")"
   ]
  },
  {
   "cell_type": "code",
   "execution_count": 4,
   "id": "465d90db-4233-4306-86a5-dc28bc789464",
   "metadata": {},
   "outputs": [],
   "source": [
    "#creating pdf reader object\n",
    "pdf_reader = PyPDF2.PdfReader(pdf)"
   ]
  },
  {
   "cell_type": "code",
   "execution_count": 5,
   "id": "f9d87eba-ace9-40cc-b9c0-033090c9d20f",
   "metadata": {},
   "outputs": [
    {
     "name": "stdout",
     "output_type": "stream",
     "text": [
      "<PyPDF2._page._VirtualList object at 0x0000025BFFCAC810>\n"
     ]
    }
   ],
   "source": [
    "#print the number of pages\n",
    "print(pdf_reader.pages)"
   ]
  },
  {
   "cell_type": "code",
   "execution_count": 6,
   "id": "297c0e72-4766-4dce-a843-b17a256bdd09",
   "metadata": {},
   "outputs": [],
   "source": [
    "#creating the first page object\n",
    "page = pdf_reader.pages[0]"
   ]
  },
  {
   "cell_type": "code",
   "execution_count": 7,
   "id": "4f356a62-8e2f-412e-be15-cb93e34dd559",
   "metadata": {},
   "outputs": [
    {
     "name": "stdout",
     "output_type": "stream",
     "text": [
      "Hello , welcome to th e practical  1 of Natural Language processing.  \n"
     ]
    }
   ],
   "source": [
    "#print the content of the first page\n",
    "print(page.extract_text())"
   ]
  },
  {
   "cell_type": "code",
   "execution_count": null,
   "id": "7da5c9a4-641a-4266-b4aa-a17de705df8b",
   "metadata": {},
   "outputs": [],
   "source": [
    "#close the pdf\n",
    "pdf.close()"
   ]
  }
 ],
 "metadata": {
  "kernelspec": {
   "display_name": "Python 3 (ipykernel)",
   "language": "python",
   "name": "python3"
  },
  "language_info": {
   "codemirror_mode": {
    "name": "ipython",
    "version": 3
   },
   "file_extension": ".py",
   "mimetype": "text/x-python",
   "name": "python",
   "nbconvert_exporter": "python",
   "pygments_lexer": "ipython3",
   "version": "3.11.5"
  }
 },
 "nbformat": 4,
 "nbformat_minor": 5
}
