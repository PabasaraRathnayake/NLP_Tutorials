{
 "cells": [
  {
   "cell_type": "markdown",
   "id": "e4b4a122-518a-42af-9128-9eb08b8472c4",
   "metadata": {},
   "source": [
    "<h1>Collecting Data from HTML</h1>"
   ]
  },
  {
   "cell_type": "code",
   "execution_count": 1,
   "id": "781adcfd-a4a2-4331-ba9d-28a0a0b34b9d",
   "metadata": {},
   "outputs": [
    {
     "name": "stdout",
     "output_type": "stream",
     "text": [
      "Requirement already satisfied: bs4 in c:\\users\\rmdpa\\appdata\\local\\programs\\python\\python311\\lib\\site-packages (0.0.1)\n",
      "Requirement already satisfied: beautifulsoup4 in c:\\users\\rmdpa\\appdata\\local\\programs\\python\\python311\\lib\\site-packages (from bs4) (4.12.2)\n",
      "Requirement already satisfied: soupsieve>1.2 in c:\\users\\rmdpa\\appdata\\local\\programs\\python\\python311\\lib\\site-packages (from beautifulsoup4->bs4) (2.4.1)\n"
     ]
    }
   ],
   "source": [
    "!pip install bs4"
   ]
  },
  {
   "cell_type": "code",
   "execution_count": 2,
   "id": "307dd495-ef1e-4608-a5d8-638c7ba5f6d9",
   "metadata": {},
   "outputs": [],
   "source": [
    "import urllib.request as urllib2\n",
    "from bs4 import BeautifulSoup"
   ]
  },
  {
   "cell_type": "code",
   "execution_count": 3,
   "id": "4d890ee7-e6f5-45d6-80f7-71c5a60f771d",
   "metadata": {},
   "outputs": [],
   "source": [
    "response = urllib2.urlopen('https://www.bbc.com/news/world-europe-66653837')\n",
    "html_doc = response.read()"
   ]
  },
  {
   "cell_type": "code",
   "execution_count": null,
   "id": "aa3ad59d-121a-4349-90cd-1a7cea5246fb",
   "metadata": {},
   "outputs": [],
   "source": [
    "response = urllib2.urlopen('https://en.wikipedia.org/wiki/Sri_Lanka')\n",
    "html_doc = response.read()"
   ]
  },
  {
   "cell_type": "markdown",
   "id": "7d39717c-bfd2-4ddc-b44d-703144d46c1e",
   "metadata": {},
   "source": [
    "<h2>Parse the HTML file</h2>"
   ]
  },
  {
   "cell_type": "code",
   "execution_count": 4,
   "id": "69af3a6d-1558-472b-9530-e5c2d50fcaee",
   "metadata": {},
   "outputs": [],
   "source": [
    "#Parsing\n",
    "soup = BeautifulSoup(html_doc, 'html.parser')\n",
    "\n",
    "# Formating the parsed html file\n",
    "strhtm = soup.prettify()"
   ]
  },
  {
   "cell_type": "code",
   "execution_count": 5,
   "id": "fabe934d-3ad5-4ac3-9300-40d3f1d54da1",
   "metadata": {},
   "outputs": [
    {
     "name": "stdout",
     "output_type": "stream",
     "text": [
      "<!DOCTYPE html>\n",
      "<html class=\"no-js\" lang=\"en-GB\">\n",
      " <head>\n",
      "  <meta charset=\"utf-8\"/>\n",
      "  <meta content=\"width=device-width, initial-scale=1\" name=\"viewport\"/>\n",
      "  <title data-rh=\"true\">\n",
      "   Ukraine war: Putin influencers profiting from war propaganda - BBC News\n",
      "  </title>\n",
      "  <meta content=\"Russia's military bloggers are reaping the rewards of a growing advertising market on Telegram.\" data-rh=\"true\" name=\"description\"/>\n",
      "  <meta content=\"#FFFFFF\" data-rh=\"true\" name=\"theme-color\"/>\n",
      "  <meta content=\"https://www.facebook.com/bbcnews\" data-rh=\"true\" property=\"article:author\"/>\n",
      "  <meta content=\"100004154058350\" data-rh=\"true\" property=\"fb:admins\"/>\n",
      "  <meta content=\"1609039196070050\" data-rh=\"true\" property=\"fb:app_id\"/>\n",
      "  <meta content=\"1143803202301544,317278538359186,1392506827668140,742734325867560,185246968166196,156060587793370,137920769558355,193435954068976,21263239760,156400551056385,929399697073756,154344434967,228735667216,80758950658,260212261199,294662213128,1086451581439054,283348121682053,295830058648,239931389545417,304314573046,310719525611571,647687225371774,1159932557403143,286567251709437,1731770190373618,125309456546,163571453661989,285361880228,512423982152360,238003846549831,176663550714,260967092113,118450564909230,100978706649892,15286229625,122103087870579,120655094632228,102814153147070,124715648647,153132638110668,150467675018739\" data-rh=\"true\" property=\"fb:pages\"/>\n",
      "  <meta content=\"Russia's military bloggers are reaping the rewards of a growing advertising market on Telegram.\" data-rh=\"true\" property=\"og:description\"/>\n",
      "  <meta content=\"https://ichef.bbci.co.uk/news/1024/branded_news/6152/production/_130941942_thumb.jpg\" data-rh=\"true\" property=\"og:image\"/>\n",
      "  <meta content=\"Pro-war Russian bloggers Marianna Naumova and Semyon Pegov with a symbol of Telegram begind them\" data-rh=\"true\" property=\"og:image:alt\"/>\n",
      "  <meta content=\"en_GB\" data-rh=\"true\" property=\"og:locale\"/>\n",
      "  <meta content=\"BBC News\" data-rh=\"true\" property=\"og:site_name\"/>\n",
      "  <meta content=\"Ukraine war: Putin influencers profiting from war propaganda\" data-rh=\"true\" property=\"og:title\"/>\n",
      "  <meta content=\"article\" data-rh=\"true\" property=\"og:type\"/>\n",
      "  <meta content=\"https://www.bbc.com/news/world-europe-66653837\" data-rh=\"true\" property=\"og:url\"/>\n",
      "  <meta content=\"Europe\" data-rh=\"true\" property=\"article:section\"/>\n",
      "  <meta content=\"summary_large_image\" data-rh=\"true\" name=\"twitter:card\"/>\n",
      "  <meta content=\"@BBCWorld\" data-rh=\"true\" name=\"twitter:creator\"/>\n",
      "  <meta content=\"Russia's military bloggers are reaping the rewards of a growing advertising market on Telegram.\" data-rh=\"true\" name=\"twitter:description\"/>\n",
      "  <meta content=\"www.bbc.com\" data-rh=\"true\" name=\"twitter:domain\"/>\n",
      "  <meta content=\"https://ichef.bbci.co.uk/news/1024/branded_news/6152/production/_130941942_thumb.jpg\" data-rh=\"true\" name=\"twitter:image:src\"/>\n",
      "  <meta content=\"Pro-war Russian bloggers Marianna Naumova and Semyon Pegov with a symbol of Telegram begind them\" data-rh=\"true\" name=\"twitter:image:alt\"/>\n",
      "  <meta content=\"@BBCWorld\" data-rh=\"true\" name=\"twitter:site\"/>\n",
      "  <meta content=\"Ukraine war: Putin influencers profiting from war propaganda\" data-rh=\"true\" name=\"twitter:title\"/>\n",
      "  <meta content=\"BBC News\" data-rh=\"true\" name=\"application-name\" type=\"metaTags\"/>\n",
      "  <meta content=\"yes\" data-rh=\"true\" name=\"mobile-web-app-capable\" type=\"metaTags\"/>\n",
      "  <meta content=\"BBC News\" data-rh=\"true\" name=\"msapplication-TileImage\" type=\"metaTags\"/>\n",
      "  <meta content=\"#bb1919\" data-rh=\"true\" name=\"msapplication-TileColor\" type=\"metaTags\"/>\n",
      "  <meta content=\"on\" data-rh=\"true\" http-equiv=\"cleartype\" name=\"cleartype\" type=\"metaTags\"/>\n",
      "  <meta content=\"https://static.files.bbci.co.uk/core/website/assets/static/icons/windows-phone/news/windows-phone-icon-270x270.23502b4459eb7a6ab2ab.png\" data-rh=\"true\" name=\"msapplication-TileImage\" type=\"metaTags\"/>\n",
      "  <link data-rh=\"true\" href=\"https://www.bbc.com/news/world-europe-66653837\" rel=\"canonical\"/>\n",
      "  <link data-rh=\"true\" href=\"https://www.bbc.com/news/world-europe-66653837.amp\" rel=\"amphtml\"/>\n",
      "  <link data-rh=\"true\" href=\"https://www.bbc.co.uk/news/world-europe-66653837\" hreflang=\"en-gb\" rel=\"alternate\"/>\n",
      "  <link data-rh=\"true\" href=\"https://www.bbc.com/news/world-europe-66653837\" hreflang=\"en\" rel=\"alternate\"/>\n",
      "  <link data-rh=\"true\" href=\"https://static.files.bbci.co.uk/core/manifest.8d4237cbd18eb052a5fa59995d4624b88fd4c643.json\" rel=\"manifest\"/>\n",
      "  <script data-rh=\"true\" type=\"application/ld+json\">\n",
      "   {\"@context\":\"http://schema.org\",\"@type\":\"ReportageNewsArticle\",\"url\":\"https://www.bbc.com/news/world-europe-66653837\",\"publisher\":{\"@type\":\"NewsMediaOrganization\",\"name\":\"BBC News\",\"publishingPrinciples\":\"http://www.bbc.co.uk/news/help-41670342\",\"logo\":{\"@type\":\"ImageObject\",\"url\":\"https://static.files.bbci.co.uk/ws/simorgh-assets/public/news/images/metadata/poster-1024x576.png\"}},\"datePublished\":\"2023-09-01T23:07:18.000Z\",\"dateModified\":\"2023-09-01T23:07:18.000Z\",\"description\":\"Russia's military bloggers are reaping the rewards of a growing advertising market on Telegram.\",\"headline\":\"Ukraine war: Putin influencers profiting from war propaganda\",\"image\":{\"@type\":\"ImageObject\",\"width\":1024,\"height\":576,\"url\":\"https://ichef.bbci.co.uk/news/1024/branded_news/6152/production/_130941942_thumb.jpg\"},\"thumbnailUrl\":\"https://ichef.bbci.co.uk/news/1024/branded_news/6152/production/_130941942_thumb.jpg\",\"mainEntityOfPage\":\"https://www.bbc.com/news/world-europe-66653837\",\"author\":[{\"@type\":\"Person\",\"name\":\"By Grigor Atanesian\"}]}\n",
      "  </script>\n",
      "  <script nonce=\"Qb3G2yJqUysVuKQdQu/hVQedr+tm9uFYckQRnaLpTydffwJG3y\">\n",
      "   /**\n",
      "* https://gist.github.com/samthor/64b114e4a4f539915a95b91ffd340acc\n",
      "*/\n",
      "(function() {\n",
      "  var check = document.createElement('script');\n",
      "  if (!('noModule' in check) && 'onbeforeload' in check) {\n",
      "    var support = false;\n",
      "    document.addEventListener('beforeload', function(e) {\n",
      "      if (e.target === check) {\n",
      "        support = true;\n",
      "      } else if (!e.target.hasAttribute('nomodule') || !support) {\n",
      "        return;\n",
      "      }\n",
      "      e.preventDefault();\n",
      "    }, true);\n",
      "\n",
      "    check.type = 'module';\n",
      "    check.src = '.';\n",
      "    document.head.appendChild(check);\n",
      "    check.remove();\n",
      "  }\n",
      "}());\n",
      "  </script>\n",
      "  <script nonce=\"Qb3G2yJqUysVuKQdQu/hVQedr+tm9uFYckQRnaLpTydffwJG3y\">\n",
      "   document.querySelector(\"html\").classList.remove(\"no-js\")\n",
      "  </script>\n",
      "  <script nonce=\"Qb3G2yJqUysVuKQdQu/hVQedr+tm9uFYckQRnaLpTydffwJG3y\">\n",
      "   window.addEventListener('unload', function(event) { });\n",
      "  </script>\n",
      "  <style data-emotion=\"ssrcss-global 1g2i4d1\">\n",
      "   html,body,div,span,applet,object,iframe,h1,h2,h3,h4,h5,h6,p,blockquote,pre,a,abbr,acronym,address,big,cite,code,del,dfn,em,img,ins,kbd,q,s,samp,small,strike,strong,sub,sup,tt,var,b,u,i,center,dl,dt,dd,ol,ul,li,fieldset,form,label,legend,table,caption,tbody,tfoot,thead,tr,th,td,article,aside,canvas,details,embed,figure,figcaption,footer,header,hgroup,main,menu,nav,output,ruby,section,summary,time,mark,audio,video{margin:0;padding:0;border:0;font-size:100%;font:inherit;vertical-align:baseline;}article,aside,details,figcaption,figure,footer,header,hgroup,main,menu,nav,section{display:block;}body{line-height:1;-webkit-text-size-adjust:none;-moz-text-size-adjust:none;-ms-text-size-adjust:none;text-size-adjust:none;}ol,ul{list-style:none;}blockquote,q{quotes:none;}blockquote::before,blockquote::after,q::before,q::after{content:'';content:none;}table{border-collapse:collapse;border-spacing:0;}button{-webkit-appearance:none;-moz-appearance:none;-ms-appearance:none;appearance:none;margin:0;padding:0;background:none;border-radius:0;border:0;font-family:inherit;color:inherit;}@font-face{font-family:'ReithSans';src:url(https://static.files.bbci.co.uk/fonts/reith/2.512/BBCReithSans_W_Rg.woff2) format('woff2'),url(https://static.files.bbci.co.uk/fonts/reith/2.512/BBCReithSans_W_Rg.woff) format('woff');font-display:swap;}@font-face{font-family:'ReithSans';src:url(https://static.files.bbci.co.uk/fonts/reith/2.512/BBCReithSans_W_It.woff2) format('woff2'),url(https://static.files.bbci.co.uk/fonts/reith/2.512/BBCReithSans_W_It.woff) format('woff');font-display:swap;font-style:italic;}@font-face{font-family:'ReithSans';src:url(https://static.files.bbci.co.uk/fonts/reith/2.512/BBCReithSans_W_Bd.woff2) format('woff2'),url(https://static.files.bbci.co.uk/fonts/reith/2.512/BBCReithSans_W_Bd.woff) format('woff');font-display:swap;font-weight:700;}@font-face{font-family:'ReithSans';src:url(https://static.files.bbci.co.uk/fonts/reith/2.512/BBCReithSans_W_BdIt.woff2) format('woff2'),url(https://static.files.bbci.co.uk/fonts/reith/2.512/BBCReithSans_W_BdIt.woff) format('woff');font-display:swap;font-style:italic;font-weight:700;}@font-face{font-family:'ReithSans';src:url(https://static.files.bbci.co.uk/fonts/reith/2.512/BBCReithSans_W_Lt.woff2) format('woff2'),url(https://static.files.bbci.co.uk/fonts/reith/2.512/BBCReithSans_W_Lt.woff) format('woff');font-display:swap;font-weight:300;}@font-face{font-family:'ReithSans';src:url(https://static.files.bbci.co.uk/fonts/reith/2.512/BBCReithSans_W_LtIt.woff2) format('woff2'),url(https://static.files.bbci.co.uk/fonts/reith/2.512/BBCReithSans_W_LtIt.woff) format('woff');font-display:swap;font-style:italic;font-weight:300;}@font-face{font-family:'ReithSans';src:url(https://static.files.bbci.co.uk/fonts/reith/2.512/BBCReithSans_W_ExBd.woff2) format('woff2'),url(https://static.files.bbci.co.uk/fonts/reith/2.512/BBCReithSans_W_ExBd.woff) format('woff');font-display:swap;font-weight:800;}@font-face{font-family:'ReithSans';src:url(https://static.files.bbci.co.uk/fonts/reith/2.512/BBCReithSans_W_ExBdIt.woff2) format('woff2'),url(https://static.files.bbci.co.uk/fonts/reith/2.512/BBCReithSans_W_ExBdIt.woff) format('woff');font-display:swap;font-style:italic;font-weight:800;}@font-face{font-family:'ReithSans';src:url(https://static.files.bbci.co.uk/fonts/reith/2.512/BBCReithSans_W_Md.woff2) format('woff2'),url(https://static.files.bbci.co.uk/fonts/reith/2.512/BBCReithSans_W_Md.woff) format('woff');font-display:swap;font-wei\n"
     ]
    }
   ],
   "source": [
    "# Print few lines\n",
    "print (strhtm[:10000])"
   ]
  },
  {
   "cell_type": "markdown",
   "id": "65fb9190-244e-4abd-845d-ace2b374d752",
   "metadata": {},
   "source": [
    "<h2>Extracting tag value</h2>"
   ]
  },
  {
   "cell_type": "code",
   "execution_count": 6,
   "id": "3b616e34-2da9-45fd-bdf1-39fce3648145",
   "metadata": {},
   "outputs": [
    {
     "name": "stdout",
     "output_type": "stream",
     "text": [
      "<title data-rh=\"true\">Ukraine war: Putin influencers profiting from war propaganda - BBC News</title>\n",
      "Ukraine war: Putin influencers profiting from war propaganda - BBC News\n",
      "None\n",
      "Russia's pro-war influencers are generating big advertising revenues from their social media coverage of the conflict, the BBC has found. \n"
     ]
    }
   ],
   "source": [
    "print(soup.title)\n",
    "print(soup.title.string)\n",
    "print(soup.a.string)\n",
    "print(soup.b.string)"
   ]
  },
  {
   "cell_type": "markdown",
   "id": "17440146-4e5b-4c33-ae78-1843b7df71f5",
   "metadata": {},
   "source": [
    "<h2>Extracting all instances of a particular tag</h2>"
   ]
  },
  {
   "cell_type": "code",
   "execution_count": 7,
   "id": "2a86b4e8-1fa6-47ce-a1d0-b11171024afe",
   "metadata": {},
   "outputs": [
    {
     "name": "stdout",
     "output_type": "stream",
     "text": [
      "None\n",
      "Skip to content\n",
      "Accessibility Help\n",
      "None\n",
      "Home\n",
      "News\n",
      "Sport\n",
      "Reel\n",
      "Worklife\n",
      "Travel\n",
      "Future\n",
      "None\n",
      "None\n",
      "None\n",
      "Home\n",
      "News\n",
      "Sport\n",
      "Reel\n",
      "Worklife\n",
      "Travel\n",
      "Future\n",
      "Culture\n",
      "Music\n",
      "TV\n",
      "Weather\n",
      "Sounds\n",
      "None\n",
      "None\n",
      "None\n",
      "Home\n",
      "War in Ukraine\n",
      "Climate\n",
      "Video\n",
      "World\n",
      "Asia\n",
      "UK\n",
      "Business\n",
      "Tech\n",
      "Science\n",
      "None\n",
      "Entertainment & Arts\n",
      "Health\n",
      "World News TV\n",
      "In Pictures\n",
      "BBC Verify\n",
      "Newsbeat\n",
      "World\n",
      "Africa\n",
      "Australia\n",
      "Europe\n",
      "Latin America\n",
      "Middle East\n",
      "US & Canada\n",
      "About sharing\n",
      "Russia-Ukraine war\n",
      "Watch Putin's Influencers: The Bloggers Selling Russia's War - now on YouTube\n",
      "Russia-Ukraine war\n",
      "Russia\n",
      "Social media influencers\n",
      "Who are Russia's war bloggers and why are they popular?\n",
      "Prigozhin's soldiers rage while others cry conspiracy\n",
      "How Russia replaces Ukrainian media with its own\n",
      "India successfully launches its first mission to Sun\n",
      "Jet ski tourist: We were shot from behind\n",
      "Singapore picks a president who could've been much more\n",
      "Putin influencers profiting from war propaganda\n",
      "Macron looks on as France's Africa policy crumbles\n",
      "Palestinian shot in head puts spotlight on Israel's use of force\n",
      "Sweltering and sheltering: Summer 2023 in six extreme weather events\n",
      "Riders, revellers and a relay: Photos of the week\n",
      "Could Prince Andrew really return to public life?\n",
      "TikTok, blackmail and double murder\n",
      "Amateur sleuths take on bike thieves in Finland\n",
      "Singapore picks a president who could've been much more\n",
      "Five of the best countries for expats in 2023\n",
      "How bad skin influences age\n",
      "Is Hollywood self-destructing?\n",
      "India successfully launches its first mission to Sun\n",
      "Urgent mission launched to rescue Antarctic researcher\n",
      "Singapore picks a president who could've been much more\n",
      "Jet ski tourist: We were shot from behind\n",
      "Nobel committee reverses Russia and Iran invitation\n",
      "US singer-songwriter Jimmy Buffett dies aged 76\n",
      "Video shows police fatally shooting pregnant woman\n",
      "Putin influencers profiting from war propaganda\n",
      "YouTube parenting mum arrested for child abuse\n",
      "Former Harrods boss Mohamed Al Fayed dies aged 94\n",
      "None\n",
      "None\n",
      "None\n",
      "None\n",
      "Home\n",
      "News\n",
      "Sport\n",
      "Reel\n",
      "Worklife\n",
      "Travel\n",
      "Future\n",
      "Culture\n",
      "Music\n",
      "TV\n",
      "Weather\n",
      "Sounds\n",
      "Terms of Use\n",
      "About the BBC\n",
      "Privacy Policy\n",
      "Cookies\n",
      "Accessibility Help\n",
      "Parental Guidance\n",
      "Contact the BBC\n",
      "Get Personalised Newsletters\n",
      "Why you can trust the BBC\n",
      "Advertise with us\n",
      "Read about our approach to external linking.\n"
     ]
    }
   ],
   "source": [
    "for x in soup.find_all('a'): print(x.string)"
   ]
  },
  {
   "cell_type": "markdown",
   "id": "220596fe-5c21-4dd2-947d-16d69863e328",
   "metadata": {},
   "source": [
    "<h2>Extracting all text of a particular tag</h2>"
   ]
  },
  {
   "cell_type": "code",
   "execution_count": 8,
   "id": "fa177f13-1f40-4112-a799-7a83a9d17799",
   "metadata": {},
   "outputs": [
    {
     "name": "stdout",
     "output_type": "stream",
     "text": [
      "Russia's pro-war influencers are generating big advertising revenues from their social media coverage of the conflict, the BBC has found. \n",
      "Alongside a daily ration of gruesome videos of drone strikes and false claims about Ukraine's President Volodymyr Zelensky, they share ads for anything from cryptocurrency to fashion.\n",
      "Known in Russia as \"Z-Bloggers\" because of their support for a war often symbolised by the letter Z, they are often embedded with the Russian army and post footage from the front line where they call on young Russians to enlist.\n",
      "Since the start of the full-scale invasion in February 2022, pro-war influencers have gained millions of followers on Telegram, the social media platform many Russians turned to after President Vladimir Putin banned Instagram, Facebook and Twitter. \n",
      "That explosion in users has led to a surge in Telegram's advertising market. \n",
      "War influencers have taken advantage of this. They sell ad spaces for companies looking to reach their young audiences. \n",
      "To find out how much they charge, members of the BBC's Global Disinformation Team posed as hotel owners interested in posting ads on their channels. \n",
      "We reached out to some of the most prominent players.  \n",
      "One of them was Alexander Kots, a veteran correspondent for a pro-government newspaper who became a war influencer, with more than 600,000 followers on his personal Telegram channel. \n",
      "Semyon Pegov, known as WarGonzo, was another. Perhaps the most well-known Z blogger, he has more than 1.3 million followers.\n",
      "Alexander Kots said it would cost 48,000-70,000 roubles (£440-£680) per post on his channel, depending on how long the ad was kept at the top of his Telegram feed. WarGonzo quoted us the equivalent of £1,550 per post.\n",
      "Top war influencers post at least one ad per day, so their potential income dwarfs Russia's average monthly wage of 66,000 roubles (£550). \n",
      "An advertising agent working with Wagner-linked channels quoted us the equivalent of £260 per ad in Grey Zone, a Telegram channel with exclusive access to Wagner and over 600,000 followers. \n",
      "To advertise on the channel of Alexander Simonov, a correspondent for the Ria Fan website founded by late mercenary boss Yevgeny Prigozhin, the agent quoted £180 per post. \n",
      "Another Ria Fan reporter, Alexander Yaremchuk, has fewer followers so his rates are lower, at £86 per post.\n",
      "While some of the Z-bloggers have significant experience of war reporting for state-run media, others like Maryana Naumova have no professional training. \n",
      "A former powerlifter, she took a reporting course on a Wagner mercenary base and now presents her own show on national TV.\n",
      "The BBC tried to interview prominent war-bloggers, but Alexander Kots was the only one of them who agreed to talk.\n",
      "Speaking from the occupied Ukrainian city of Bakhmut, he described himself as a reporter in an information war. Nevertheless he understood Russia's propaganda depended, in part, on people like him.\n",
      "\"The Ministry of Defence often listens to us, and we have a direct channel to privately communicate information to them. It's all behind the scenes, and I do that,\" he said. \n",
      "For more on this story:\n",
      "Watch Putin's Influencers: The Bloggers Selling Russia's War - now on YouTube\n",
      "The BBC's Global Disinformation Team tells the story of social media influencers making money from war propaganda.\n",
      "The growing market for the Z-bloggers' material is sustained by a steady stream of exclusive videos. The footage brings them a diverse following, from domestic pro-war audiences to Western and Ukrainian analysts trying to understand what is really going on in the Russian trenches.\n",
      "However, some of the videos posted by the pro-war bloggers are fake. \n",
      "Last March, prominent influencers including Alexander Kots posted a dashcam video that purported to show two Ukrainian soldiers stopping a car with a woman and a small child. \n",
      "The gunmen in the video call the woman \"a pig\" for speaking Russian and threaten her. Z-bloggers said the video was a perfect example of how Ukraine treated civilians. \n",
      "But we have geolocated this video to Makiivka, a town near Donetsk. This area of Ukraine has been occupied by pro-Russian proxy forces since 2014. It is impossible that a uniformed Ukrainian soldier could have operated in this occupied territory. \n",
      "Added to that, the use of dashcams is illegal in Ukraine. The ban was imposed after the full-scale Russian invasion to keep troop movements secret. \n",
      "And the cross on the vehicle is different from the one used by Ukraine's armed forces. All these elements suggest the video was staged. \n",
      "It is one of many fakes spread by Z-bloggers to encourage young Russians to support the war, and there is evidence they are succeeding. \n",
      "In one video a mobilised Russian man says he went to a recruitment centre after watching a number of videos from Vladlen Tatarsky, one of the most vocal bloggers. Tatarsky was killed in April 2023 at a meeting with his fans.\n",
      "Another Russian man who volunteered to fight in Ukraine told a blogger he did so after watching a lot of WarGonzo reports. \"I follow all the military news and analysis on Telegram,\" he said, referring to the Z-bloggers.\n",
      "Asked to respond to the rise of pro-Putin war bloggers on the platform, Telegram said it was the \"last platform through which Russians can access independent media outlets like Meduza, uncensored international news like the BBC or [President] Zelensky's speeches\".\n",
      "A spokesman said while all parties were \"treated equally\", Telegram respected international sanctions and blocked Russian state media \"where laws forbid it\".\n",
      "Over the course of the war, President Putin has shown his appreciation of the Z-bloggers' efforts. \n",
      "He appointed Alexander Kots to the presidential human rights council and made Semyon Pegov and several other bloggers members of a working group on mobilisation.\n",
      "In June, he invited pro-war influencers and state media reporters to the Kremlin for a two-hour long conversation.\n",
      "\"The fight in the information space is a battlefield. A crucial battlefield,\" he told them. \"And I really count on your help.\"\n",
      "Who are Russia's war bloggers and why are they popular?\n",
      "Prigozhin's soldiers rage while others cry conspiracy\n",
      "How Russia replaces Ukrainian media with its own\n",
      "India successfully launches its first mission to Sun\n",
      "Jet ski tourist: We were shot from behind\n",
      "Singapore picks a president who could've been much more\n",
      "Putin influencers profiting from war propaganda\n",
      "Macron looks on as France's Africa policy crumbles\n",
      "Palestinian shot in head puts spotlight on Israel's use of force\n",
      "Sweltering and sheltering: Summer 2023 in six extreme weather events\n",
      "Riders, revellers and a relay: Photos of the week\n",
      "Could Prince Andrew really return to public life?\n",
      "TikTok, blackmail and double murder\n",
      "Amateur sleuths take on bike thieves in Finland\n",
      "Singapore picks a president who could've been much more\n",
      "Five of the best countries for expats in 2023\n",
      "How bad skin influences age\n",
      "Is Hollywood self-destructing?\n",
      "© 2023 BBC. The BBC is not responsible for the content of external sites. Read about our approach to external linking.\n"
     ]
    }
   ],
   "source": [
    "for x in soup.find_all('p'): print(x.text)"
   ]
  },
  {
   "cell_type": "code",
   "execution_count": null,
   "id": "ee2a48ee-ac3b-4e50-a72e-19ac6ab8ffbd",
   "metadata": {},
   "outputs": [],
   "source": []
  }
 ],
 "metadata": {
  "kernelspec": {
   "display_name": "Python 3 (ipykernel)",
   "language": "python",
   "name": "python3"
  },
  "language_info": {
   "codemirror_mode": {
    "name": "ipython",
    "version": 3
   },
   "file_extension": ".py",
   "mimetype": "text/x-python",
   "name": "python",
   "nbconvert_exporter": "python",
   "pygments_lexer": "ipython3",
   "version": "3.11.5"
  }
 },
 "nbformat": 4,
 "nbformat_minor": 5
}
