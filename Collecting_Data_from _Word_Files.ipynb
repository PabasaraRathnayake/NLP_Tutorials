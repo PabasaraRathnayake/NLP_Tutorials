{
 "cells": [
  {
   "cell_type": "markdown",
   "id": "cb9692e3-1af8-457f-babc-33569dd1e20e",
   "metadata": {},
   "source": [
    "<h1>Collecting Data from Word Files</h1>"
   ]
  },
  {
   "cell_type": "code",
   "execution_count": 1,
   "id": "86811681-cf7b-4af2-9b86-d2c9dc2bcd21",
   "metadata": {},
   "outputs": [
    {
     "name": "stdout",
     "output_type": "stream",
     "text": [
      "Requirement already satisfied: python-docx in c:\\users\\rmdpa\\appdata\\local\\programs\\python\\python311\\lib\\site-packages (0.8.11)\n",
      "Requirement already satisfied: lxml>=2.3.2 in c:\\users\\rmdpa\\appdata\\local\\programs\\python\\python311\\lib\\site-packages (from python-docx) (4.9.3)\n"
     ]
    }
   ],
   "source": [
    "!pip install python-docx"
   ]
  },
  {
   "cell_type": "code",
   "execution_count": 2,
   "id": "45505366-bb65-4dcb-b6b9-86d14ad90ded",
   "metadata": {},
   "outputs": [],
   "source": [
    "#Import library\n",
    "import docx\n",
    "from docx import Document"
   ]
  },
  {
   "cell_type": "code",
   "execution_count": 3,
   "id": "3dd1b893-8b73-49f6-87ce-2fcb5b757109",
   "metadata": {},
   "outputs": [],
   "source": [
    "#Creating a word file object\n",
    "doc = open(\"Test-doc.docx\",\"rb\")"
   ]
  },
  {
   "cell_type": "code",
   "execution_count": 4,
   "id": "61bd6861-4047-42d0-a158-3cd4ed79f17c",
   "metadata": {},
   "outputs": [],
   "source": [
    "#creating word reader object\n",
    "document = docx.Document(doc)"
   ]
  },
  {
   "cell_type": "code",
   "execution_count": 5,
   "id": "9cdfcd34-8eb2-4267-bbfd-1bca79ca0223",
   "metadata": {},
   "outputs": [
    {
     "data": {
      "text/plain": [
       "<docx.document.Document at 0x211b446fd00>"
      ]
     },
     "execution_count": 5,
     "metadata": {},
     "output_type": "execute_result"
    }
   ],
   "source": [
    "document"
   ]
  },
  {
   "cell_type": "code",
   "execution_count": 6,
   "id": "54a6fba0-1ec3-41c5-8ef6-151bf121a2c0",
   "metadata": {},
   "outputs": [
    {
     "name": "stdout",
     "output_type": "stream",
     "text": [
      "Hello, welcome to the practical 1 of Natural Language processing.\n"
     ]
    }
   ],
   "source": [
    "docu=\"\"\n",
    "for para in document.paragraphs:\n",
    "    docu += para.text\n",
    "print(docu)"
   ]
  }
 ],
 "metadata": {
  "kernelspec": {
   "display_name": "Python 3 (ipykernel)",
   "language": "python",
   "name": "python3"
  },
  "language_info": {
   "codemirror_mode": {
    "name": "ipython",
    "version": 3
   },
   "file_extension": ".py",
   "mimetype": "text/x-python",
   "name": "python",
   "nbconvert_exporter": "python",
   "pygments_lexer": "ipython3",
   "version": "3.11.5"
  }
 },
 "nbformat": 4,
 "nbformat_minor": 5
}
